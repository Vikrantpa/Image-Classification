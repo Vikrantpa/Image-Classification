{
  "cells": [
    {
      "cell_type": "markdown",
      "id": "ee24891b",
      "metadata": {
        "id": "ee24891b"
      },
      "source": [
        "# Image Classification"
      ]
    },
    {
      "cell_type": "markdown",
      "id": "d2ff362d",
      "metadata": {
        "id": "d2ff362d"
      },
      "source": [
        "**Importing necessary packages**"
      ]
    },
    {
      "cell_type": "code",
      "execution_count": null,
      "id": "7268a75d",
      "metadata": {
        "id": "7268a75d",
        "outputId": "5cc6e870-91c7-4307-9581-2617e0a364aa"
      },
      "outputs": [
        {
          "name": "stderr",
          "output_type": "stream",
          "text": [
            "C:\\Users\\EH1101AU\\anaconda3\\lib\\site-packages\\scipy\\__init__.py:155: UserWarning: A NumPy version >=1.18.5 and <1.25.0 is required for this version of SciPy (detected version 1.26.4\n",
            "  warnings.warn(f\"A NumPy version >={np_minversion} and <{np_maxversion}\"\n"
          ]
        }
      ],
      "source": [
        "import os\n",
        "import numpy as np\n",
        "import numpy as np\n",
        "import cv2\n",
        "import matplotlib.pyplot as plt\n",
        "from sklearn.model_selection import train_test_split\n",
        "import tensorflow as tf\n",
        "from tensorflow.keras import layers, models\n",
        "import zipfile"
      ]
    },
    {
      "cell_type": "markdown",
      "id": "355dfe24",
      "metadata": {
        "id": "355dfe24"
      },
      "source": [
        "**Function to load and preprocess data**"
      ]
    },
    {
      "cell_type": "code",
      "execution_count": null,
      "id": "d6685173",
      "metadata": {
        "id": "d6685173"
      },
      "outputs": [],
      "source": [
        "def load_data(data_dir):\n",
        "    images = []\n",
        "    labels = []\n",
        "    for label in range(10):  # Assuming 10 classes for digits 0-9\n",
        "        label_dir = os.path.join(data_dir, f'num{label}')\n",
        "        if not os.path.exists(label_dir):\n",
        "            print(f\"Directory not found: {label_dir}\")\n",
        "            continue\n",
        "        for filename in os.listdir(label_dir):\n",
        "            img_path = os.path.join(label_dir, filename)\n",
        "            img = cv2.imread(img_path, cv2.IMREAD_GRAYSCALE)\n",
        "            if img is None:\n",
        "                print(f\"Image not loaded: {img_path}\")\n",
        "                continue\n",
        "            img = cv2.resize(img, (28, 28))  # Resize to 28x28\n",
        "            images.append(img)\n",
        "            labels.append(label)\n",
        "    return np.array(images), np.array(labels)"
      ]
    },
    {
      "cell_type": "markdown",
      "id": "f5806bf3",
      "metadata": {
        "id": "f5806bf3"
      },
      "source": [
        "**Load the training data**"
      ]
    },
    {
      "cell_type": "code",
      "execution_count": null,
      "id": "04f4469e",
      "metadata": {
        "id": "04f4469e",
        "outputId": "d21c5968-0cd9-4188-f902-f0feedacc320"
      },
      "outputs": [
        {
          "name": "stdout",
          "output_type": "stream",
          "text": [
            "Image not loaded: C:\\Users\\EH1101AU\\Downloads\\num_handwritten_classification\\Training_data\\num3\\.DS_Store\n"
          ]
        }
      ],
      "source": [
        "train_extraction_path = 'C:\\\\Users\\\\EH1101AU\\\\Downloads\\\\num_handwritten_classification\\\\Training_data'\n",
        "images_train, labels_train = load_data(train_extraction_path)"
      ]
    },
    {
      "cell_type": "markdown",
      "id": "ed5c97ec",
      "metadata": {
        "id": "ed5c97ec"
      },
      "source": [
        "**Showing the sample images**"
      ]
    },
    {
      "cell_type": "code",
      "execution_count": null,
      "id": "da3b0155",
      "metadata": {
        "id": "da3b0155",
        "outputId": "5fe11fb2-3cd2-4d15-809e-d744e4891e5e"
      },
      "outputs": [
        {
          "data": {
            "image/png": "[encoded data removed]",
            "text/plain": [
              "<Figure size 640x480 with 1 Axes>"
            ]
          },
          "metadata": {},
          "output_type": "display_data"
        }
      ],
      "source": [
        "def show_image(img, label):\n",
        "    plt.imshow(img.squeeze(), cmap='gray')\n",
        "    plt.title(f\"Label: {label}\")\n",
        "    plt.axis('off')\n",
        "    plt.show()\n",
        "\n",
        "# Show the first image in the dataset as an example\n",
        "show_image(images_train[2], labels_train[0])"
      ]
    },
    {
      "cell_type": "markdown",
      "id": "d3e6810e",
      "metadata": {
        "id": "d3e6810e"
      },
      "source": [
        "**Normalize the images to [0, 1] range**"
      ]
    },
    {
      "cell_type": "code",
      "execution_count": null,
      "id": "ee4e0f50",
      "metadata": {
        "id": "ee4e0f50",
        "outputId": "c916ed82-777f-4a88-877b-0d6f1cfb7851"
      },
      "outputs": [
        {
          "name": "stdout",
          "output_type": "stream",
          "text": [
            "Training data shape: (270, 28, 28, 1), Labels shape: (270,)\n"
          ]
        }
      ],
      "source": [
        "images_train = images_train.astype('float32') / 255.0\n",
        "\n",
        "# Reshape to (num_samples, 28, 28, 1) for the CNN\n",
        "images_train = np.expand_dims(images_train, axis=-1)\n",
        "\n",
        "# Check the shape of the data\n",
        "print(f\"Training data shape: {images_train.shape}, Labels shape: {labels_train.shape}\")"
      ]
    },
    {
      "cell_type": "markdown",
      "id": "b7a2e7ae",
      "metadata": {
        "id": "b7a2e7ae"
      },
      "source": [
        "# Model Building"
      ]
    },
    {
      "cell_type": "markdown",
      "id": "f7349146",
      "metadata": {
        "id": "f7349146"
      },
      "source": [
        "**Here we are building a simple CNN model for hand written classification**\n",
        "\n",
        "The model is trained using 32x32 pixel grayscale images. No external datasets or additional data is used. Only the given training data is utilized."
      ]
    },
    {
      "cell_type": "code",
      "execution_count": null,
      "id": "0fb4f6b5",
      "metadata": {
        "id": "0fb4f6b5",
        "outputId": "27462570-6e82-409e-ad56-5741fb17fdeb"
      },
      "outputs": [
        {
          "name": "stderr",
          "output_type": "stream",
          "text": [
            "C:\\Users\\EH1101AU\\anaconda3\\lib\\site-packages\\keras\\src\\layers\\convolutional\\base_conv.py:107: UserWarning: Do not pass an `input_shape`/`input_dim` argument to a layer. When using Sequential models, prefer using an `Input(shape)` object as the first layer in the model instead.\n",
            "  super().__init__(activity_regularizer=activity_regularizer, **kwargs)\n"
          ]
        }
      ],
      "source": [
        "model = models.Sequential([\n",
        "    layers.Conv2D(32, (3, 3), activation='relu', input_shape=(28, 28, 1)),\n",
        "    layers.MaxPooling2D((2, 2)),\n",
        "\n",
        "    layers.Conv2D(64, (3, 3), activation='relu'),\n",
        "    layers.MaxPooling2D((2, 2)),\n",
        "\n",
        "    layers.Conv2D(128, (3, 3), activation='relu'),\n",
        "\n",
        "    layers.GlobalAveragePooling2D(),  # Use GlobalAveragePooling instead of Flatten\n",
        "    layers.Dense(512, activation='relu'),\n",
        "    layers.Dropout(0.5),\n",
        "    layers.Dense(10, activation='softmax')  # 10 output classes\n",
        "])"
      ]
    },
    {
      "cell_type": "markdown",
      "id": "661eb35e",
      "metadata": {
        "id": "661eb35e"
      },
      "source": [
        "**Compiling the model**"
      ]
    },
    {
      "cell_type": "code",
      "execution_count": null,
      "id": "11bfa41a",
      "metadata": {
        "id": "11bfa41a"
      },
      "outputs": [],
      "source": [
        "model.compile(optimizer='adam', loss='sparse_categorical_crossentropy', metrics=['accuracy'])"
      ]
    },
    {
      "cell_type": "code",
      "execution_count": null,
      "id": "8d0fd5c7",
      "metadata": {
        "scrolled": true,
        "id": "8d0fd5c7",
        "outputId": "c03821b0-ab74-47f3-d3bd-237d410050ce"
      },
      "outputs": [
        {
          "name": "stdout",
          "output_type": "stream",
          "text": [
            "Epoch 1/30\n",
            "\u001b[1m9/9\u001b[0m \u001b[32m━━━━━━━━━━━━━━━━━━━━\u001b[0m\u001b[37m\u001b[0m \u001b[1m2s\u001b[0m 17ms/step - accuracy: 0.1058 - loss: 2.2973\n",
            "Epoch 2/30\n",
            "\u001b[1m9/9\u001b[0m \u001b[32m━━━━━━━━━━━━━━━━━━━━\u001b[0m\u001b[37m\u001b[0m \u001b[1m0s\u001b[0m 11ms/step - accuracy: 0.1062 - loss: 2.2580\n",
            "Epoch 3/30\n",
            "\u001b[1m9/9\u001b[0m \u001b[32m━━━━━━━━━━━━━━━━━━━━\u001b[0m\u001b[37m\u001b[0m \u001b[1m0s\u001b[0m 11ms/step - accuracy: 0.1246 - loss: 2.2235\n",
            "Epoch 4/30\n",
            "\u001b[1m9/9\u001b[0m \u001b[32m━━━━━━━━━━━━━━━━━━━━\u001b[0m\u001b[37m\u001b[0m \u001b[1m0s\u001b[0m 11ms/step - accuracy: 0.0965 - loss: 2.2330\n",
            "Epoch 5/30\n",
            "\u001b[1m9/9\u001b[0m \u001b[32m━━━━━━━━━━━━━━━━━━━━\u001b[0m\u001b[37m\u001b[0m \u001b[1m0s\u001b[0m 11ms/step - accuracy: 0.1269 - loss: 2.2299\n",
            "Epoch 6/30\n",
            "\u001b[1m9/9\u001b[0m \u001b[32m━━━━━━━━━━━━━━━━━━━━\u001b[0m\u001b[37m\u001b[0m \u001b[1m0s\u001b[0m 11ms/step - accuracy: 0.1325 - loss: 2.1906\n",
            "Epoch 7/30\n",
            "\u001b[1m9/9\u001b[0m \u001b[32m━━━━━━━━━━━━━━━━━━━━\u001b[0m\u001b[37m\u001b[0m \u001b[1m0s\u001b[0m 8ms/step - accuracy: 0.1606 - loss: 2.1816\n",
            "Epoch 8/30\n",
            "\u001b[1m9/9\u001b[0m \u001b[32m━━━━━━━━━━━━━━━━━━━━\u001b[0m\u001b[37m\u001b[0m \u001b[1m0s\u001b[0m 8ms/step - accuracy: 0.1867 - loss: 2.1541\n",
            "Epoch 9/30\n",
            "\u001b[1m9/9\u001b[0m \u001b[32m━━━━━━━━━━━━━━━━━━━━\u001b[0m\u001b[37m\u001b[0m \u001b[1m0s\u001b[0m 8ms/step - accuracy: 0.2082 - loss: 2.0850\n",
            "Epoch 10/30\n",
            "\u001b[1m9/9\u001b[0m \u001b[32m━━━━━━━━━━━━━━━━━━━━\u001b[0m\u001b[37m\u001b[0m \u001b[1m0s\u001b[0m 8ms/step - accuracy: 0.2504 - loss: 2.0497\n",
            "Epoch 11/30\n",
            "\u001b[1m9/9\u001b[0m \u001b[32m━━━━━━━━━━━━━━━━━━━━\u001b[0m\u001b[37m\u001b[0m \u001b[1m0s\u001b[0m 8ms/step - accuracy: 0.3309 - loss: 1.8935\n",
            "Epoch 12/30\n",
            "\u001b[1m9/9\u001b[0m \u001b[32m━━━━━━━━━━━━━━━━━━━━\u001b[0m\u001b[37m\u001b[0m \u001b[1m0s\u001b[0m 8ms/step - accuracy: 0.3283 - loss: 1.8377\n",
            "Epoch 13/30\n",
            "\u001b[1m9/9\u001b[0m \u001b[32m━━━━━━━━━━━━━━━━━━━━\u001b[0m\u001b[37m\u001b[0m \u001b[1m0s\u001b[0m 8ms/step - accuracy: 0.3171 - loss: 1.8222\n",
            "Epoch 14/30\n",
            "\u001b[1m9/9\u001b[0m \u001b[32m━━━━━━━━━━━━━━━━━━━━\u001b[0m\u001b[37m\u001b[0m \u001b[1m0s\u001b[0m 8ms/step - accuracy: 0.3911 - loss: 1.6858\n",
            "Epoch 15/30\n",
            "\u001b[1m9/9\u001b[0m \u001b[32m━━━━━━━━━━━━━━━━━━━━\u001b[0m\u001b[37m\u001b[0m \u001b[1m0s\u001b[0m 8ms/step - accuracy: 0.3542 - loss: 1.6861\n",
            "Epoch 16/30\n",
            "\u001b[1m9/9\u001b[0m \u001b[32m━━━━━━━━━━━━━━━━━━━━\u001b[0m\u001b[37m\u001b[0m \u001b[1m0s\u001b[0m 7ms/step - accuracy: 0.4410 - loss: 1.6214\n",
            "Epoch 17/30\n",
            "\u001b[1m9/9\u001b[0m \u001b[32m━━━━━━━━━━━━━━━━━━━━\u001b[0m\u001b[37m\u001b[0m \u001b[1m0s\u001b[0m 8ms/step - accuracy: 0.4430 - loss: 1.5446\n",
            "Epoch 18/30\n",
            "\u001b[1m9/9\u001b[0m \u001b[32m━━━━━━━━━━━━━━━━━━━━\u001b[0m\u001b[37m\u001b[0m \u001b[1m0s\u001b[0m 8ms/step - accuracy: 0.4415 - loss: 1.4977\n",
            "Epoch 19/30\n",
            "\u001b[1m9/9\u001b[0m \u001b[32m━━━━━━━━━━━━━━━━━━━━\u001b[0m\u001b[37m\u001b[0m \u001b[1m0s\u001b[0m 8ms/step - accuracy: 0.4723 - loss: 1.3991\n",
            "Epoch 20/30\n",
            "\u001b[1m9/9\u001b[0m \u001b[32m━━━━━━━━━━━━━━━━━━━━\u001b[0m\u001b[37m\u001b[0m \u001b[1m0s\u001b[0m 8ms/step - accuracy: 0.5780 - loss: 1.3363\n",
            "Epoch 21/30\n",
            "\u001b[1m9/9\u001b[0m \u001b[32m━━━━━━━━━━━━━━━━━━━━\u001b[0m\u001b[37m\u001b[0m \u001b[1m0s\u001b[0m 8ms/step - accuracy: 0.5203 - loss: 1.3607\n",
            "Epoch 22/30\n",
            "\u001b[1m9/9\u001b[0m \u001b[32m━━━━━━━━━━━━━━━━━━━━\u001b[0m\u001b[37m\u001b[0m \u001b[1m0s\u001b[0m 8ms/step - accuracy: 0.5616 - loss: 1.2137\n",
            "Epoch 23/30\n",
            "\u001b[1m9/9\u001b[0m \u001b[32m━━━━━━━━━━━━━━━━━━━━\u001b[0m\u001b[37m\u001b[0m \u001b[1m0s\u001b[0m 8ms/step - accuracy: 0.5973 - loss: 1.1830\n",
            "Epoch 24/30\n",
            "\u001b[1m9/9\u001b[0m \u001b[32m━━━━━━━━━━━━━━━━━━━━\u001b[0m\u001b[37m\u001b[0m \u001b[1m0s\u001b[0m 8ms/step - accuracy: 0.6009 - loss: 1.0498\n",
            "Epoch 25/30\n",
            "\u001b[1m9/9\u001b[0m \u001b[32m━━━━━━━━━━━━━━━━━━━━\u001b[0m\u001b[37m\u001b[0m \u001b[1m0s\u001b[0m 8ms/step - accuracy: 0.5936 - loss: 1.0859\n",
            "Epoch 26/30\n",
            "\u001b[1m9/9\u001b[0m \u001b[32m━━━━━━━━━━━━━━━━━━━━\u001b[0m\u001b[37m\u001b[0m \u001b[1m0s\u001b[0m 9ms/step - accuracy: 0.6548 - loss: 0.9383\n",
            "Epoch 27/30\n",
            "\u001b[1m9/9\u001b[0m \u001b[32m━━━━━━━━━━━━━━━━━━━━\u001b[0m\u001b[37m\u001b[0m \u001b[1m0s\u001b[0m 8ms/step - accuracy: 0.6862 - loss: 0.9006\n",
            "Epoch 28/30\n",
            "\u001b[1m9/9\u001b[0m \u001b[32m━━━━━━━━━━━━━━━━━━━━\u001b[0m\u001b[37m\u001b[0m \u001b[1m0s\u001b[0m 8ms/step - accuracy: 0.7222 - loss: 0.7803\n",
            "Epoch 29/30\n",
            "\u001b[1m9/9\u001b[0m \u001b[32m━━━━━━━━━━━━━━━━━━━━\u001b[0m\u001b[37m\u001b[0m \u001b[1m0s\u001b[0m 8ms/step - accuracy: 0.7414 - loss: 0.8409\n",
            "Epoch 30/30\n",
            "\u001b[1m9/9\u001b[0m \u001b[32m━━━━━━━━━━━━━━━━━━━━\u001b[0m\u001b[37m\u001b[0m \u001b[1m0s\u001b[0m 8ms/step - accuracy: 0.7350 - loss: 0.8134\n"
          ]
        }
      ],
      "source": [
        "history = model.fit(images_train, labels_train, epochs=30, batch_size=32)"
      ]
    },
    {
      "cell_type": "markdown",
      "id": "42e97481",
      "metadata": {
        "id": "42e97481"
      },
      "source": [
        "**Showing the performance of model**"
      ]
    },
    {
      "cell_type": "code",
      "execution_count": null,
      "id": "a7eae28a",
      "metadata": {
        "scrolled": true,
        "id": "a7eae28a",
        "outputId": "6864168c-11e7-4b22-e1e6-c0a57ad75d88"
      },
      "outputs": [
        {
          "name": "stdout",
          "output_type": "stream",
          "text": [
            "\u001b[1m9/9\u001b[0m \u001b[32m━━━━━━━━━━━━━━━━━━━━\u001b[0m\u001b[37m\u001b[0m \u001b[1m0s\u001b[0m 6ms/step - accuracy: 0.7286 - loss: 0.7652  \n",
            "Training Loss: 0.6811\n",
            "Training Accuracy: 0.7704\n"
          ]
        }
      ],
      "source": [
        "train_loss, train_accuracy = model.evaluate(images_train, labels_train)\n",
        "\n",
        "print(f\"Training Loss: {train_loss:.4f}\")\n",
        "print(f\"Training Accuracy: {train_accuracy:.4f}\")"
      ]
    },
    {
      "cell_type": "markdown",
      "id": "f53e4593",
      "metadata": {
        "id": "f53e4593"
      },
      "source": [
        "**Plotting training accuracy and loss**"
      ]
    },
    {
      "cell_type": "code",
      "execution_count": null,
      "id": "9bbe1c9e",
      "metadata": {
        "id": "9bbe1c9e"
      },
      "outputs": [],
      "source": [
        "import matplotlib.pyplot as plt"
      ]
    },
    {
      "cell_type": "code",
      "execution_count": null,
      "id": "21b12fd0",
      "metadata": {
        "id": "21b12fd0",
        "outputId": "65736ed0-5209-46bc-f1df-a85d1e632d39"
      },
      "outputs": [
        {
          "data": {
            "image/png": "[encoded data removed]",
            "text/plain": [
              "<Figure size 640x480 with 1 Axes>"
            ]
          },
          "metadata": {},
          "output_type": "display_data"
        }
      ],
      "source": [
        "plt.plot(history.history['accuracy'], label='Accuracy')\n",
        "plt.plot(history.history['loss'], label='Loss')\n",
        "plt.title('Training Accuracy and Loss')\n",
        "plt.xlabel('Epoch')\n",
        "plt.ylabel('Value')\n",
        "plt.legend()\n",
        "plt.show()"
      ]
    },
    {
      "cell_type": "markdown",
      "id": "6e85eaab",
      "metadata": {
        "id": "6e85eaab"
      },
      "source": [
        "**> Here we can see that as epochs increases, the accuracy is also increases**\n",
        "\n",
        "**> In another chart, As a epoch increases loss is deacreases**"
      ]
    },
    {
      "cell_type": "code",
      "execution_count": null,
      "id": "1b45aa8a",
      "metadata": {
        "id": "1b45aa8a"
      },
      "outputs": [],
      "source": []
    },
    {
      "cell_type": "markdown",
      "id": "1ceb33b0",
      "metadata": {
        "id": "1ceb33b0"
      },
      "source": [
        "# Taking a sample image for prediction"
      ]
    },
    {
      "cell_type": "code",
      "execution_count": null,
      "id": "266b0cab",
      "metadata": {
        "id": "266b0cab"
      },
      "outputs": [],
      "source": [
        "import numpy as np\n",
        "import cv2\n",
        "import matplotlib.pyplot as plt"
      ]
    },
    {
      "cell_type": "markdown",
      "id": "11f63df0",
      "metadata": {
        "id": "11f63df0"
      },
      "source": [
        "**Function to load and preprocess a single image**"
      ]
    },
    {
      "cell_type": "code",
      "execution_count": null,
      "id": "eae32bf6",
      "metadata": {
        "id": "eae32bf6"
      },
      "outputs": [],
      "source": [
        "def preprocess_single_image(img_path):\n",
        "    img = cv2.imread(img_path, cv2.IMREAD_GRAYSCALE)  # Load the image in grayscale\n",
        "    if img is None:\n",
        "        print(f\"Image not loaded: {img_path}\")\n",
        "        return None\n",
        "    img = cv2.resize(img, (28, 28))  # Resize to 28x28\n",
        "    img = img.astype('float32') / 255.0  # Normalize pixel values\n",
        "    img = np.expand_dims(img, axis=-1)  # Add channel dimension (28, 28, 1)\n",
        "    img = np.expand_dims(img, axis=0)   # Add batch dimension (1, 28, 28, 1)\n",
        "    return img"
      ]
    },
    {
      "cell_type": "markdown",
      "id": "2d5263fa",
      "metadata": {
        "id": "2d5263fa"
      },
      "source": [
        "**Path to your test image**"
      ]
    },
    {
      "cell_type": "code",
      "execution_count": null,
      "id": "5caa1a3c",
      "metadata": {
        "id": "5caa1a3c"
      },
      "outputs": [],
      "source": [
        "test_image_path = 'C:\\\\Users\\\\EH1101AU\\\\Downloads\\\\num_handwritten_classification\\\\Validation_data\\\\Validation_data\\\\num5\\\\img006-037.png'\n",
        "\n",
        "# Preprocess the test image\n",
        "test_image = preprocess_single_image(test_image_path)"
      ]
    },
    {
      "cell_type": "markdown",
      "id": "7e996ad1",
      "metadata": {
        "id": "7e996ad1"
      },
      "source": [
        "**showing the results on screen**"
      ]
    },
    {
      "cell_type": "code",
      "execution_count": null,
      "id": "2bc35e6d",
      "metadata": {
        "id": "2bc35e6d",
        "outputId": "c5b6a08d-da52-455d-c4a1-8d4dd594ee99"
      },
      "outputs": [
        {
          "name": "stdout",
          "output_type": "stream",
          "text": [
            "\u001b[1m1/1\u001b[0m \u001b[32m━━━━━━━━━━━━━━━━━━━━\u001b[0m\u001b[37m\u001b[0m \u001b[1m0s\u001b[0m 31ms/step\n",
            "Predicted Label: 5\n"
          ]
        },
        {
          "data": {
            "image/png": "[encoded data removed]",
            "text/plain": [
              "<Figure size 640x480 with 1 Axes>"
            ]
          },
          "metadata": {},
          "output_type": "display_data"
        }
      ],
      "source": [
        "if test_image is not None:\n",
        "    # model's prediction\n",
        "    prediction = model.predict(test_image)\n",
        "\n",
        "    # Get the class with the highest probability\n",
        "    predicted_label = np.argmax(prediction, axis=1)[0]\n",
        "\n",
        "    # Display the image and predicted label\n",
        "    print(f\"Predicted Label: {predicted_label}\")\n",
        "    plt.imshow(test_image.squeeze(), cmap='gray')\n",
        "    plt.title(f\"Predicted Label: {predicted_label}\")\n",
        "    plt.axis('off')\n",
        "    plt.show()"
      ]
    },
    {
      "cell_type": "markdown",
      "id": "152f0624",
      "metadata": {
        "id": "152f0624"
      },
      "source": [
        "Here we can see our model predicted correctly"
      ]
    },
    {
      "cell_type": "code",
      "execution_count": null,
      "id": "f841c3a1",
      "metadata": {
        "id": "f841c3a1"
      },
      "outputs": [],
      "source": []
    },
    {
      "cell_type": "markdown",
      "id": "015bd145",
      "metadata": {
        "id": "015bd145"
      },
      "source": [
        "# 2 Pros and Cons;"
      ]
    },
    {
      "cell_type": "markdown",
      "id": "9abb4c22",
      "metadata": {
        "id": "9abb4c22"
      },
      "source": [
        "Pros:\n",
        "\n",
        "1. Simplicity: Straightforward architecture with convolutional and pooling layers, effective for image classification.\n",
        "2. Efficiency: GlobalAveragePooling2D reduces parameters, enhancing efficiency.\n",
        "3. Baseline: Provides a solid starting point for digit recognition.\n",
        "\n",
        "Cons:\n",
        "\n",
        "1. Overfitting Risk: Dropout may not fully prevent overfitting, especially with limited data.\n",
        "2. Limited Generalization: Model may struggle with new fonts or writing styles due to training on a specific dataset.\n",
        "3. No Data Augmentation: Lacks rotation, scaling, or other augmentations that could improve robustness."
      ]
    },
    {
      "cell_type": "markdown",
      "id": "b21fd2ef",
      "metadata": {
        "id": "b21fd2ef"
      },
      "source": [
        "# 3 Accuracy Reporting"
      ]
    },
    {
      "cell_type": "markdown",
      "id": "a0d43ba7",
      "metadata": {
        "id": "a0d43ba7"
      },
      "source": [
        "**Training and Validation accuracy**"
      ]
    },
    {
      "cell_type": "code",
      "execution_count": null,
      "id": "9ad2746d",
      "metadata": {
        "id": "9ad2746d"
      },
      "outputs": [],
      "source": [
        "from sklearn.model_selection import train_test_split"
      ]
    },
    {
      "cell_type": "markdown",
      "id": "d32df39d",
      "metadata": {
        "id": "d32df39d"
      },
      "source": [
        "Split dataset into training and validation sets (80% train, 20% validation)"
      ]
    },
    {
      "cell_type": "code",
      "execution_count": null,
      "id": "f6ebb54d",
      "metadata": {
        "scrolled": true,
        "id": "f6ebb54d",
        "outputId": "6e720e36-d244-44a6-959d-1be4fb0faae3"
      },
      "outputs": [
        {
          "name": "stdout",
          "output_type": "stream",
          "text": [
            "Epoch 1/30\n",
            "\u001b[1m6/6\u001b[0m \u001b[32m━━━━━━━━━━━━━━━━━━━━\u001b[0m\u001b[37m\u001b[0m \u001b[1m0s\u001b[0m 30ms/step - accuracy: 0.9696 - loss: 0.1499 - val_accuracy: 0.9545 - val_loss: 0.2068\n",
            "Epoch 2/30\n",
            "\u001b[1m6/6\u001b[0m \u001b[32m━━━━━━━━━━━━━━━━━━━━\u001b[0m\u001b[37m\u001b[0m \u001b[1m0s\u001b[0m 20ms/step - accuracy: 0.9705 - loss: 0.1451 - val_accuracy: 0.9091 - val_loss: 0.2324\n",
            "Epoch 3/30\n",
            "\u001b[1m6/6\u001b[0m \u001b[32m━━━━━━━━━━━━━━━━━━━━\u001b[0m\u001b[37m\u001b[0m \u001b[1m0s\u001b[0m 19ms/step - accuracy: 0.9551 - loss: 0.1724 - val_accuracy: 0.9545 - val_loss: 0.2061\n",
            "Epoch 4/30\n",
            "\u001b[1m6/6\u001b[0m \u001b[32m━━━━━━━━━━━━━━━━━━━━\u001b[0m\u001b[37m\u001b[0m \u001b[1m0s\u001b[0m 20ms/step - accuracy: 0.9360 - loss: 0.1728 - val_accuracy: 0.9545 - val_loss: 0.1905\n",
            "Epoch 5/30\n",
            "\u001b[1m6/6\u001b[0m \u001b[32m━━━━━━━━━━━━━━━━━━━━\u001b[0m\u001b[37m\u001b[0m \u001b[1m0s\u001b[0m 19ms/step - accuracy: 0.9871 - loss: 0.1152 - val_accuracy: 0.9545 - val_loss: 0.2220\n",
            "Epoch 6/30\n",
            "\u001b[1m6/6\u001b[0m \u001b[32m━━━━━━━━━━━━━━━━━━━━\u001b[0m\u001b[37m\u001b[0m \u001b[1m0s\u001b[0m 20ms/step - accuracy: 0.9804 - loss: 0.1305 - val_accuracy: 0.9318 - val_loss: 0.2242\n",
            "Epoch 7/30\n",
            "\u001b[1m6/6\u001b[0m \u001b[32m━━━━━━━━━━━━━━━━━━━━\u001b[0m\u001b[37m\u001b[0m \u001b[1m0s\u001b[0m 21ms/step - accuracy: 0.9665 - loss: 0.1514 - val_accuracy: 0.9318 - val_loss: 0.2317\n",
            "Epoch 8/30\n",
            "\u001b[1m6/6\u001b[0m \u001b[32m━━━━━━━━━━━━━━━━━━━━\u001b[0m\u001b[37m\u001b[0m \u001b[1m0s\u001b[0m 19ms/step - accuracy: 0.9830 - loss: 0.1046 - val_accuracy: 0.9545 - val_loss: 0.2483\n",
            "Epoch 9/30\n",
            "\u001b[1m6/6\u001b[0m \u001b[32m━━━━━━━━━━━━━━━━━━━━\u001b[0m\u001b[37m\u001b[0m \u001b[1m0s\u001b[0m 19ms/step - accuracy: 0.9527 - loss: 0.1343 - val_accuracy: 0.8864 - val_loss: 0.2991\n",
            "Epoch 10/30\n",
            "\u001b[1m6/6\u001b[0m \u001b[32m━━━━━━━━━━━━━━━━━━━━\u001b[0m\u001b[37m\u001b[0m \u001b[1m0s\u001b[0m 19ms/step - accuracy: 0.9764 - loss: 0.1118 - val_accuracy: 0.9545 - val_loss: 0.2099\n",
            "Epoch 11/30\n",
            "\u001b[1m6/6\u001b[0m \u001b[32m━━━━━━━━━━━━━━━━━━━━\u001b[0m\u001b[37m\u001b[0m \u001b[1m0s\u001b[0m 19ms/step - accuracy: 0.9823 - loss: 0.0993 - val_accuracy: 0.9545 - val_loss: 0.1982\n",
            "Epoch 12/30\n",
            "\u001b[1m6/6\u001b[0m \u001b[32m━━━━━━━━━━━━━━━━━━━━\u001b[0m\u001b[37m\u001b[0m \u001b[1m0s\u001b[0m 19ms/step - accuracy: 0.9878 - loss: 0.0784 - val_accuracy: 0.9545 - val_loss: 0.2050\n",
            "Epoch 13/30\n",
            "\u001b[1m6/6\u001b[0m \u001b[32m━━━━━━━━━━━━━━━━━━━━\u001b[0m\u001b[37m\u001b[0m \u001b[1m0s\u001b[0m 20ms/step - accuracy: 0.9873 - loss: 0.0668 - val_accuracy: 0.9545 - val_loss: 0.2195\n",
            "Epoch 14/30\n",
            "\u001b[1m6/6\u001b[0m \u001b[32m━━━━━━━━━━━━━━━━━━━━\u001b[0m\u001b[37m\u001b[0m \u001b[1m0s\u001b[0m 18ms/step - accuracy: 0.9864 - loss: 0.0651 - val_accuracy: 0.9318 - val_loss: 0.2188\n",
            "Epoch 15/30\n",
            "\u001b[1m6/6\u001b[0m \u001b[32m━━━━━━━━━━━━━━━━━━━━\u001b[0m\u001b[37m\u001b[0m \u001b[1m0s\u001b[0m 19ms/step - accuracy: 0.9726 - loss: 0.1094 - val_accuracy: 0.9773 - val_loss: 0.1974\n",
            "Epoch 16/30\n",
            "\u001b[1m6/6\u001b[0m \u001b[32m━━━━━━━━━━━━━━━━━━━━\u001b[0m\u001b[37m\u001b[0m \u001b[1m0s\u001b[0m 20ms/step - accuracy: 0.9974 - loss: 0.0716 - val_accuracy: 0.9091 - val_loss: 0.2533\n",
            "Epoch 17/30\n",
            "\u001b[1m6/6\u001b[0m \u001b[32m━━━━━━━━━━━━━━━━━━━━\u001b[0m\u001b[37m\u001b[0m \u001b[1m0s\u001b[0m 16ms/step - accuracy: 0.9926 - loss: 0.0504 - val_accuracy: 0.9773 - val_loss: 0.2066\n",
            "Epoch 18/30\n",
            "\u001b[1m6/6\u001b[0m \u001b[32m━━━━━━━━━━━━━━━━━━━━\u001b[0m\u001b[37m\u001b[0m \u001b[1m0s\u001b[0m 14ms/step - accuracy: 0.9647 - loss: 0.0719 - val_accuracy: 0.9773 - val_loss: 0.1981\n",
            "Epoch 19/30\n",
            "\u001b[1m6/6\u001b[0m \u001b[32m━━━━━━━━━━━━━━━━━━━━\u001b[0m\u001b[37m\u001b[0m \u001b[1m0s\u001b[0m 14ms/step - accuracy: 1.0000 - loss: 0.0486 - val_accuracy: 0.9091 - val_loss: 0.2698\n",
            "Epoch 20/30\n",
            "\u001b[1m6/6\u001b[0m \u001b[32m━━━━━━━━━━━━━━━━━━━━\u001b[0m\u001b[37m\u001b[0m \u001b[1m0s\u001b[0m 14ms/step - accuracy: 0.9830 - loss: 0.0562 - val_accuracy: 0.9545 - val_loss: 0.2138\n",
            "Epoch 21/30\n",
            "\u001b[1m6/6\u001b[0m \u001b[32m━━━━━━━━━━━━━━━━━━━━\u001b[0m\u001b[37m\u001b[0m \u001b[1m0s\u001b[0m 14ms/step - accuracy: 0.9881 - loss: 0.0583 - val_accuracy: 0.9318 - val_loss: 0.2137\n",
            "Epoch 22/30\n",
            "\u001b[1m6/6\u001b[0m \u001b[32m━━━━━━━━━━━━━━━━━━━━\u001b[0m\u001b[37m\u001b[0m \u001b[1m0s\u001b[0m 14ms/step - accuracy: 0.9948 - loss: 0.0442 - val_accuracy: 0.9091 - val_loss: 0.2830\n",
            "Epoch 23/30\n",
            "\u001b[1m6/6\u001b[0m \u001b[32m━━━━━━━━━━━━━━━━━━━━\u001b[0m\u001b[37m\u001b[0m \u001b[1m0s\u001b[0m 14ms/step - accuracy: 0.9974 - loss: 0.0402 - val_accuracy: 0.9773 - val_loss: 0.2060\n",
            "Epoch 24/30\n",
            "\u001b[1m6/6\u001b[0m \u001b[32m━━━━━━━━━━━━━━━━━━━━\u001b[0m\u001b[37m\u001b[0m \u001b[1m0s\u001b[0m 14ms/step - accuracy: 0.9974 - loss: 0.0376 - val_accuracy: 0.9545 - val_loss: 0.2039\n",
            "Epoch 25/30\n",
            "\u001b[1m6/6\u001b[0m \u001b[32m━━━━━━━━━━━━━━━━━━━━\u001b[0m\u001b[37m\u001b[0m \u001b[1m0s\u001b[0m 13ms/step - accuracy: 0.9974 - loss: 0.0490 - val_accuracy: 0.9545 - val_loss: 0.2457\n",
            "Epoch 26/30\n",
            "\u001b[1m6/6\u001b[0m \u001b[32m━━━━━━━━━━━━━━━━━━━━\u001b[0m\u001b[37m\u001b[0m \u001b[1m0s\u001b[0m 14ms/step - accuracy: 1.0000 - loss: 0.0333 - val_accuracy: 0.9318 - val_loss: 0.2496\n",
            "Epoch 27/30\n",
            "\u001b[1m6/6\u001b[0m \u001b[32m━━━━━━━━━━━━━━━━━━━━\u001b[0m\u001b[37m\u001b[0m \u001b[1m0s\u001b[0m 14ms/step - accuracy: 0.9947 - loss: 0.0297 - val_accuracy: 0.9318 - val_loss: 0.2429\n",
            "Epoch 28/30\n",
            "\u001b[1m6/6\u001b[0m \u001b[32m━━━━━━━━━━━━━━━━━━━━\u001b[0m\u001b[37m\u001b[0m \u001b[1m0s\u001b[0m 13ms/step - accuracy: 1.0000 - loss: 0.0265 - val_accuracy: 0.9773 - val_loss: 0.2391\n",
            "Epoch 29/30\n",
            "\u001b[1m6/6\u001b[0m \u001b[32m━━━━━━━━━━━━━━━━━━━━\u001b[0m\u001b[37m\u001b[0m \u001b[1m0s\u001b[0m 15ms/step - accuracy: 0.9926 - loss: 0.0419 - val_accuracy: 0.9545 - val_loss: 0.2371\n",
            "Epoch 30/30\n",
            "\u001b[1m6/6\u001b[0m \u001b[32m━━━━━━━━━━━━━━━━━━━━\u001b[0m\u001b[37m\u001b[0m \u001b[1m0s\u001b[0m 13ms/step - accuracy: 0.9926 - loss: 0.0375 - val_accuracy: 0.9091 - val_loss: 0.2744\n"
          ]
        }
      ],
      "source": [
        "images_train, images_val, labels_train, labels_val = train_test_split(images_train, labels_train, test_size=0.2, random_state=42)\n",
        "\n",
        "# Train the model on the new train set\n",
        "history = model.fit(images_train, labels_train, epochs=30, batch_size=32, validation_data=(images_val, labels_val))"
      ]
    },
    {
      "cell_type": "markdown",
      "id": "ecd28334",
      "metadata": {
        "id": "ecd28334"
      },
      "source": [
        "**Report accuracy**"
      ]
    },
    {
      "cell_type": "code",
      "execution_count": null,
      "id": "0385e5d4",
      "metadata": {
        "id": "0385e5d4",
        "outputId": "881023cd-9d85-45d8-cc30-3dbc64287118"
      },
      "outputs": [
        {
          "name": "stdout",
          "output_type": "stream",
          "text": [
            "\u001b[1m2/2\u001b[0m \u001b[32m━━━━━━━━━━━━━━━━━━━━\u001b[0m\u001b[37m\u001b[0m \u001b[1m0s\u001b[0m 7ms/step - accuracy: 0.9186 - loss: 0.2112 \n",
            "Validation Loss: 0.2744\n",
            "Validation Accuracy: 0.9091\n"
          ]
        }
      ],
      "source": [
        "val_loss, val_accuracy = model.evaluate(images_val, labels_val)\n",
        "print(f\"Validation Loss: {val_loss:.4f}\")\n",
        "print(f\"Validation Accuracy: {val_accuracy:.4f}\")"
      ]
    },
    {
      "cell_type": "markdown",
      "id": "b21f5878",
      "metadata": {
        "id": "b21f5878"
      },
      "source": [
        "**Training Accuracy: The model achieves an accuracy of around 70% on the training dataset**\n",
        "\n",
        "**Validation Accuracy: The model achieves an accuracy of around 80% on the training Validation**"
      ]
    },
    {
      "cell_type": "markdown",
      "id": "d0cfca60",
      "metadata": {
        "id": "d0cfca60"
      },
      "source": [
        "# 4. Qualitative Observations\n",
        "\n",
        "\n",
        "1. Consistency: The model shows consistent predictions for well-written digits. However, it might struggle with noisy images or unusual writing styles.\n",
        "2. Misclassification: The model could confuse similar-looking digits such as '1' and '7' or '8' and '3'.\n",
        "3. Interpretability: The internal layers (feature maps) can be visualized to understand which features the model is focusing on during classification."
      ]
    },
    {
      "cell_type": "markdown",
      "id": "a1b6ceea",
      "metadata": {
        "id": "a1b6ceea"
      },
      "source": [
        "# 5. Improvements\n",
        "\n",
        "\n",
        "**1. Data Augmentation:**  Introduce random rotations, shifts, zooms, and shearing to improve the generalization capability of the model. This will also help the model become robust to different variations in handwriting.\n",
        "\n",
        "**2. Increase Model Depth:** Add more layers or experiment with a deeper network to capture finer details, or use more sophisticated architectures like ResNet to improve performance.\n",
        "\n",
        "**3. Add Regularization:** Need to Add L2 regularization or use more dropout layers to prevent overfitting."
      ]
    },
    {
      "cell_type": "markdown",
      "id": "e4110437",
      "metadata": {
        "id": "e4110437"
      },
      "source": [
        "# 6. Test Set Evaluation:\n",
        "\n",
        "**precision, recall, and F1-score**"
      ]
    },
    {
      "cell_type": "code",
      "execution_count": null,
      "id": "44976bdd",
      "metadata": {
        "id": "44976bdd",
        "outputId": "7a07799a-d4b0-406e-bdb9-aabd0276a41f"
      },
      "outputs": [
        {
          "name": "stdout",
          "output_type": "stream",
          "text": [
            "\u001b[1m7/7\u001b[0m \u001b[32m━━━━━━━━━━━━━━━━━━━━\u001b[0m\u001b[37m\u001b[0m \u001b[1m0s\u001b[0m 5ms/step \n"
          ]
        }
      ],
      "source": [
        "from sklearn.metrics import classification_report\n",
        "import numpy as np\n",
        "\n",
        "# Predict the labels for the training data\n",
        "predicted_train_labels = model.predict(images_train)\n",
        "predicted_train_labels = np.argmax(predicted_train_labels, axis=1)  # Convert predictions to class labels"
      ]
    },
    {
      "cell_type": "markdown",
      "id": "30d7429a",
      "metadata": {
        "id": "30d7429a"
      },
      "source": [
        "**Check unique values in the labels (just to confirm the classes match)**"
      ]
    },
    {
      "cell_type": "code",
      "execution_count": null,
      "id": "1b1ac13e",
      "metadata": {
        "id": "1b1ac13e",
        "outputId": "f96b2b50-d232-4789-b7bb-192dd997549a"
      },
      "outputs": [
        {
          "name": "stdout",
          "output_type": "stream",
          "text": [
            "Unique labels in training data: [0 1 2 3 4 5 7 8 9]\n"
          ]
        }
      ],
      "source": [
        "unique_labels = np.unique(labels_train)\n",
        "print(f\"Unique labels in training data: {unique_labels}\")"
      ]
    },
    {
      "cell_type": "markdown",
      "id": "893a1070",
      "metadata": {
        "id": "893a1070"
      },
      "source": [
        "**Generate a classification report**"
      ]
    },
    {
      "cell_type": "code",
      "execution_count": null,
      "id": "bd2d697a",
      "metadata": {
        "id": "bd2d697a",
        "outputId": "347772df-332e-4b78-ad82-7511dc80cae1"
      },
      "outputs": [
        {
          "name": "stdout",
          "output_type": "stream",
          "text": [
            "Unique labels in training data: [0 1 2 3 4 5 7 8 9]\n",
            "Classification Report:\n",
            "              precision    recall  f1-score   support\n",
            "\n",
            "           0       0.96      1.00      0.98        23\n",
            "           1       1.00      1.00      1.00        26\n",
            "           2       1.00      1.00      1.00        24\n",
            "           3       0.91      0.91      0.91        22\n",
            "           4       1.00      1.00      1.00        24\n",
            "           5       1.00      0.93      0.96        27\n",
            "           7       1.00      1.00      1.00        22\n",
            "           8       1.00      0.96      0.98        24\n",
            "           9       0.92      1.00      0.96        24\n",
            "\n",
            "    accuracy                           0.98       216\n",
            "   macro avg       0.98      0.98      0.98       216\n",
            "weighted avg       0.98      0.98      0.98       216\n",
            "\n"
          ]
        }
      ],
      "source": [
        "print(\"Classification Report:\")\n",
        "print(classification_report(labels_train, predicted_train_labels, labels=unique_labels, target_names=[str(i) for i in unique_labels]))"
      ]
    },
    {
      "cell_type": "markdown",
      "id": "3e3741e5",
      "metadata": {
        "id": "3e3741e5"
      },
      "source": [
        "# Saving the final model"
      ]
    },
    {
      "cell_type": "code",
      "execution_count": null,
      "id": "0dc3da44",
      "metadata": {
        "id": "0dc3da44",
        "outputId": "ce21811f-a6c2-4c92-9af1-255f190a6d7c"
      },
      "outputs": [
        {
          "name": "stdout",
          "output_type": "stream",
          "text": [
            "Model saved at: C:\\Users\\EH1101AU\\Downloads\\saved_model.keras\n"
          ]
        }
      ],
      "source": [
        "# Save the trained model in the recommended .keras format\n",
        "model_save_path = 'C:\\\\Users\\\\EH1101AU\\\\Downloads\\\\saved_model.keras'\n",
        "model.save(model_save_path)\n",
        "\n",
        "print(f\"Model saved at: {model_save_path}\")\n"
      ]
    },
    {
      "cell_type": "code",
      "execution_count": null,
      "id": "da83e949",
      "metadata": {
        "id": "da83e949"
      },
      "outputs": [],
      "source": [
        "# Load the saved model\n",
        "loaded_model = tf.keras.models.load_model(model_save_path)"
      ]
    },
    {
      "cell_type": "code",
      "execution_count": null,
      "id": "3fe23153",
      "metadata": {
        "id": "3fe23153",
        "outputId": "f0decf80-3aee-4615-c8f1-8435d8e872d0"
      },
      "outputs": [
        {
          "data": {
            "text/plain": [
              "<Sequential name=sequential, built=True>"
            ]
          },
          "execution_count": 33,
          "metadata": {},
          "output_type": "execute_result"
        }
      ],
      "source": [
        "loaded_model"
      ]
    },
    {
      "cell_type": "code",
      "execution_count": null,
      "id": "2b90c5d1",
      "metadata": {
        "id": "2b90c5d1"
      },
      "outputs": [],
      "source": []
    }
  ],
  "metadata": {
    "kernelspec": {
      "display_name": "Python 3 (ipykernel)",
      "language": "python",
      "name": "python3"
    },
    "language_info": {
      "codemirror_mode": {
        "name": "ipython",
        "version": 3
      },
      "file_extension": ".py",
      "mimetype": "text/x-python",
      "name": "python",
      "nbconvert_exporter": "python",
      "pygments_lexer": "ipython3",
      "version": "3.9.13"
    },
    "colab": {
      "provenance": []
    }
  },
  "nbformat": 4,
  "nbformat_minor": 5
}